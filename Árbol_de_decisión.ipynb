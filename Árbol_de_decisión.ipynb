{
  "nbformat": 4,
  "nbformat_minor": 0,
  "metadata": {
    "colab": {
      "name": "Árbol de decisión.ipynb",
      "provenance": [],
      "authorship_tag": "ABX9TyM+a3uPZ4M9Jf1PsAL8kO27",
      "include_colab_link": true
    },
    "kernelspec": {
      "name": "python3",
      "display_name": "Python 3"
    },
    "language_info": {
      "name": "python"
    }
  },
  "cells": [
    {
      "cell_type": "markdown",
      "metadata": {
        "id": "view-in-github",
        "colab_type": "text"
      },
      "source": [
        "<a href=\"https://colab.research.google.com/github/juliansalvucci/ML-Arbol-de-decision/blob/main/%C3%81rbol_de_decisi%C3%B3n.ipynb\" target=\"_parent\"><img src=\"https://colab.research.google.com/assets/colab-badge.svg\" alt=\"Open In Colab\"/></a>"
      ]
    },
    {
      "cell_type": "markdown",
      "source": [
        "## ***ÁRBOL DE DECISIÓN***"
      ],
      "metadata": {
        "id": "NyXI-DSSJwfo"
      }
    },
    {
      "cell_type": "markdown",
      "source": [
        "*Determinar a partir de un conjunto de datos que detalla características sobre coches, cual coche comprar y cual no.*"
      ],
      "metadata": {
        "id": "xPqRWLHsJTNP"
      }
    },
    {
      "cell_type": "code",
      "execution_count": null,
      "metadata": {
        "id": "9cqhopOS8Fs9"
      },
      "outputs": [],
      "source": [
        "import pandas as pd\n",
        "import matplotlib.pyplot as plt"
      ]
    },
    {
      "cell_type": "code",
      "source": [
        "data = pd.read_csv('cars.csv', header = None) #Generar dataset a partir de documento .csv"
      ],
      "metadata": {
        "id": "M72FTbYA8W7Z"
      },
      "execution_count": null,
      "outputs": []
    },
    {
      "cell_type": "code",
      "source": [
        "data.columns['price', 'maintenance','n_doors','capacity','size_lug','safety','class']"
      ],
      "metadata": {
        "id": "KcCLqjAB8tdp"
      },
      "execution_count": null,
      "outputs": []
    },
    {
      "cell_type": "code",
      "source": [
        "data.price.replace(('vhigh','high','med','low'),(4,3,2,1), inplace = True) #Reemplazar valores alfanuméricos por numéricos.\n",
        "data.maintenance.replace(('vhigh','high','med','low'),(4,3,2,1), inplace = True) \n",
        "data.n_doors.replace(('2','3','4','5more'),(1,2,3,4), inplace = True) \n",
        "data.capacity.replace(('2', '4','more'),(1,2,3), inplace = True) \n",
        "data.size_lug.replace(('small','med','big'),(1,2,3), inplace = True) \n",
        "data.safety.replace(('low','med','high'),(1,2,3), inplace = True) "
      ],
      "metadata": {
        "id": "mdGqEqVU9NoR"
      },
      "execution_count": null,
      "outputs": []
    },
    {
      "cell_type": "code",
      "source": [
        "data['class'].replace(('unacc','acc','good','vgood'),(1,2,3,4), inplace = True)"
      ],
      "metadata": {
        "id": "UT_rKQyH_V_6"
      },
      "execution_count": null,
      "outputs": []
    },
    {
      "cell_type": "markdown",
      "source": [
        "División de información"
      ],
      "metadata": {
        "id": "U97P8S4yB2mb"
      }
    },
    {
      "cell_type": "code",
      "source": [
        "#División de datos.\n",
        "#80% aprendizaje.\n",
        "#20% pruebas.\n",
        "\n",
        "dataset = data.values #Tomar valores del dataset.\n",
        "#División.\n",
        "X = dataset[:,0:6] #Columnas con datos de aprendizajes\n",
        "Y = np.asarray(dataset[:6],dtype = '56') #arreglo que contiene la ultima columna del set de datos.\n",
        "#Y contiene la información que ayudará a decidir si comprar un determinado coche o no.\n",
        "\n",
        "#asarray pertime convertir objeto iterable en array permitiendo especificar el tipo a aplicar-"
      ],
      "metadata": {
        "id": "-Wk1nG8t_r-q"
      },
      "execution_count": null,
      "outputs": []
    },
    {
      "cell_type": "code",
      "source": [
        "from sklearn import tree #sklearn contiene un arbol.\n",
        "from sklearn.model_selection import train_test_split, cross_val_score #Con esto se divide entre lo que se aprende y con lo que se prueba.\n",
        "from sklearn import metrics #metric nos permite saber la eficiencia de aprendizaje."
      ],
      "metadata": {
        "id": "164dS4YZCjE0"
      },
      "execution_count": null,
      "outputs": []
    },
    {
      "cell_type": "code",
      "source": [
        "##Dividir la información tanto de aprendizaje como de prueba en X e Y.\n",
        "#test_size = 0.2 indica que se toma el 20% de datos.\n",
        "X_Train, X_Test, Y_Train, Y_Test = train_test_split(X,Y,test_size = 0.2, random_state = 0)"
      ],
      "metadata": {
        "id": "Ga5Otqi1F-nS"
      },
      "execution_count": null,
      "outputs": []
    },
    {
      "cell_type": "code",
      "source": [
        "#Iniciar arbol.\n",
        "tr = tree.DecisionTreeClassifier(max_depth=10) #con 10 niveles."
      ],
      "metadata": {
        "id": "W1RS3OxSGw-F"
      },
      "execution_count": null,
      "outputs": []
    },
    {
      "cell_type": "code",
      "source": [
        "#Entrenamiento de arbol.\n",
        "tr.fit(X_Train, Y_Train) #Se crea un modelo."
      ],
      "metadata": {
        "id": "Ag5upGZbG9gl"
      },
      "execution_count": null,
      "outputs": []
    },
    {
      "cell_type": "code",
      "source": [
        "#Corroborar que el arbol esta aprendiendo.\n",
        "#corroborar con datos de test.\n",
        "y_pred = tr.predict(X_Test) #Añade etiquetas identificatorias sobre el conjunto del 20%"
      ],
      "metadata": {
        "id": "uSKwNoF9HOrI"
      },
      "execution_count": null,
      "outputs": []
    },
    {
      "cell_type": "code",
      "source": [
        "y_pred"
      ],
      "metadata": {
        "id": "LKj5R2klHvz2"
      },
      "execution_count": null,
      "outputs": []
    },
    {
      "cell_type": "code",
      "source": [
        "#Saber cuanto ha aprendido nuestro arbol.\n",
        "#Calcular a partir de los datos de prueba, que son los que ha utilizado previamente.\n",
        "score = tr.score(X_Test, Y_Test)"
      ],
      "metadata": {
        "id": "i92jMCaFH0HQ"
      },
      "execution_count": null,
      "outputs": []
    },
    {
      "cell_type": "code",
      "source": [
        "print('Precisión: %0.4f' % (score))  #%0.4f es para dar formato al string."
      ],
      "metadata": {
        "id": "RKQU-0ShIK-d"
      },
      "execution_count": null,
      "outputs": []
    }
  ]
}